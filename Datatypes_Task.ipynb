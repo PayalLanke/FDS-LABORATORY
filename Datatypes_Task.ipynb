{
 "cells": [
  {
   "cell_type": "code",
   "execution_count": 2,
   "id": "bbede9d3",
   "metadata": {},
   "outputs": [
    {
     "data": {
      "text/html": [
       "<div>\n",
       "<style scoped>\n",
       "    .dataframe tbody tr th:only-of-type {\n",
       "        vertical-align: middle;\n",
       "    }\n",
       "\n",
       "    .dataframe tbody tr th {\n",
       "        vertical-align: top;\n",
       "    }\n",
       "\n",
       "    .dataframe thead th {\n",
       "        text-align: right;\n",
       "    }\n",
       "</style>\n",
       "<table border=\"1\" class=\"dataframe\">\n",
       "  <thead>\n",
       "    <tr style=\"text-align: right;\">\n",
       "      <th></th>\n",
       "      <th>Student</th>\n",
       "      <th>Gender</th>\n",
       "      <th>Stream</th>\n",
       "      <th>Attendence %</th>\n",
       "      <th>Study Hours/Week</th>\n",
       "      <th>Grade</th>\n",
       "      <th>Hostel Resident</th>\n",
       "    </tr>\n",
       "  </thead>\n",
       "  <tbody>\n",
       "    <tr>\n",
       "      <th>0</th>\n",
       "      <td>A</td>\n",
       "      <td>Male</td>\n",
       "      <td>Science</td>\n",
       "      <td>85</td>\n",
       "      <td>10</td>\n",
       "      <td>B</td>\n",
       "      <td>Yes</td>\n",
       "    </tr>\n",
       "    <tr>\n",
       "      <th>1</th>\n",
       "      <td>B</td>\n",
       "      <td>Female</td>\n",
       "      <td>Commerce</td>\n",
       "      <td>92</td>\n",
       "      <td>14</td>\n",
       "      <td>A</td>\n",
       "      <td>No</td>\n",
       "    </tr>\n",
       "    <tr>\n",
       "      <th>2</th>\n",
       "      <td>C</td>\n",
       "      <td>Male</td>\n",
       "      <td>Arts</td>\n",
       "      <td>75</td>\n",
       "      <td>7</td>\n",
       "      <td>C</td>\n",
       "      <td>Yes</td>\n",
       "    </tr>\n",
       "    <tr>\n",
       "      <th>3</th>\n",
       "      <td>D</td>\n",
       "      <td>Female</td>\n",
       "      <td>Science</td>\n",
       "      <td>88</td>\n",
       "      <td>11</td>\n",
       "      <td>B</td>\n",
       "      <td>No</td>\n",
       "    </tr>\n",
       "    <tr>\n",
       "      <th>4</th>\n",
       "      <td>E</td>\n",
       "      <td>Male</td>\n",
       "      <td>Commerce</td>\n",
       "      <td>60</td>\n",
       "      <td>6</td>\n",
       "      <td>D</td>\n",
       "      <td>Yes</td>\n",
       "    </tr>\n",
       "  </tbody>\n",
       "</table>\n",
       "</div>"
      ],
      "text/plain": [
       "  Student  Gender    Stream  Attendence %  Study Hours/Week Grade  \\\n",
       "0       A    Male   Science            85                10     B   \n",
       "1       B  Female  Commerce            92                14     A   \n",
       "2       C    Male      Arts            75                 7     C   \n",
       "3       D  Female   Science            88                11     B   \n",
       "4       E    Male  Commerce            60                 6     D   \n",
       "\n",
       "  Hostel Resident  \n",
       "0             Yes  \n",
       "1              No  \n",
       "2             Yes  \n",
       "3              No  \n",
       "4             Yes  "
      ]
     },
     "execution_count": 2,
     "metadata": {},
     "output_type": "execute_result"
    }
   ],
   "source": [
    "#Lanke Payal Sambhaji\n",
    "#Roll No:151\n",
    "\n",
    "import pandas as pd\n",
    "\n",
    "# Sample dataset with qualitative and quantitative data types\n",
    "data = {\n",
    "    'Student': ['A', 'B', 'C', 'D','E'],\n",
    "    'Gender': ['Male', 'Female', 'Male', 'Female','Male'],\n",
    "    'Stream': ['Science', 'Commerce', 'Arts', 'Science','Commerce'],\n",
    "    'Attendence %': [85, 92, 75, 88,60],\n",
    "    'Study Hours/Week': [10, 14, 7, 11,6],\n",
    "    'Grade': ['B', 'A', 'C', 'B','D'],\n",
    "    'Hostel Resident': ['Yes','No', 'Yes', 'No', 'Yes'],\n",
    "}\n",
    "\n",
    "df = pd.DataFrame(data)\n",
    "df"
   ]
  },
  {
   "cell_type": "code",
   "execution_count": 3,
   "id": "035094bd",
   "metadata": {},
   "outputs": [
    {
     "name": "stdout",
     "output_type": "stream",
     "text": [
      "Student: Qualitative - Nominal\n",
      "Gender: Qualitative - Nominal\n",
      "Stream: Qualitative - Nominal\n",
      "Attendence %: Quantitative - Continous\n",
      "Study Hours/Week: Quantitative - Discret\n",
      "Grade: Qualitative - Nominal\n",
      "Hostel Resident: Qualititative - Nominal\n"
     ]
    }
   ],
   "source": [
    "#Datatypes of the dataframe columns\n",
    "column_types = {\n",
    "    'Student': 'Qualitative - Nominal',\n",
    "    'Gender': 'Qualitative - Nominal',\n",
    "    'Stream': 'Qualitative - Nominal',\n",
    "    'Attendence %': 'Quantitative - Continous',\n",
    "    'Study Hours/Week': 'Quantitative - Discret',\n",
    "    'Grade': 'Qualitative - Nominal',\n",
    "    'Hostel Resident':'Qualititative - Nominal'\n",
    "}\n",
    "for col, dtype in column_types.items():\n",
    "    print(f\"{col}: {dtype}\")"
   ]
  },
  {
   "cell_type": "code",
   "execution_count": 4,
   "id": "2b06c648",
   "metadata": {},
   "outputs": [
    {
     "data": {
      "text/plain": [
       "Student             object\n",
       "Gender              object\n",
       "Stream              object\n",
       "Attendence %         int64\n",
       "Study Hours/Week     int64\n",
       "Grade               object\n",
       "Hostel Resident     object\n",
       "dtype: object"
      ]
     },
     "execution_count": 4,
     "metadata": {},
     "output_type": "execute_result"
    }
   ],
   "source": [
    "#Pandas DataFrame dtypes\n",
    "df.dtypes"
   ]
  }
 ],
 "metadata": {
  "kernelspec": {
   "display_name": "Python 3",
   "language": "python",
   "name": "python3"
  },
  "language_info": {
   "codemirror_mode": {
    "name": "ipython",
    "version": 3
   },
   "file_extension": ".py",
   "mimetype": "text/x-python",
   "name": "python",
   "nbconvert_exporter": "python",
   "pygments_lexer": "ipython3",
   "version": "3.11.4"
  }
 },
 "nbformat": 4,
 "nbformat_minor": 5
}
