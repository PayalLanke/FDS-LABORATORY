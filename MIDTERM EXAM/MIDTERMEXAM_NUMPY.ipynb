{
 "cells": [
  {
   "cell_type": "code",
   "execution_count": null,
   "id": "d19d7fba",
   "metadata": {},
   "outputs": [],
   "source": [
    "#Name:Lanke Payal Sambhaji\n",
    "#Roll No:152\n",
    "#Div:TY B\n",
    "#FDSL MIDTERM\n",
    "#Title:Assignment based on Numpy arrays and functions (Numpy Library)\n"
   ]
  },
  {
   "cell_type": "code",
   "execution_count": 122,
   "id": "8f384bc9",
   "metadata": {},
   "outputs": [],
   "source": [
    "#NumpyLibrary Import\n",
    "import numpy as np #For Working with arrays and numerical operations\n"
   ]
  },
  {
   "cell_type": "code",
   "execution_count": 123,
   "id": "3b10563d",
   "metadata": {},
   "outputs": [
    {
     "name": "stdout",
     "output_type": "stream",
     "text": [
      "2.3.1\n"
     ]
    }
   ],
   "source": [
    "print(np.__version__)#Checking Numpy Version\n"
   ]
  },
  {
   "cell_type": "code",
   "execution_count": 124,
   "id": "6a6c97d6",
   "metadata": {},
   "outputs": [
    {
     "name": "stdout",
     "output_type": "stream",
     "text": [
      "1D Array Creation\n",
      "[1 2 3 4 5]\n"
     ]
    }
   ],
   "source": [
    "#1D Array Creation\n",
    "print(\"1D Array Creation\")\n",
    "arr=np.array([1,2,3,4,5],dtype=np.int32) #Array\n",
    "print(arr)\n"
   ]
  },
  {
   "cell_type": "code",
   "execution_count": 125,
   "id": "583f82f1",
   "metadata": {},
   "outputs": [
    {
     "name": "stdout",
     "output_type": "stream",
     "text": [
      "Array Dimension: 1\n",
      "Array shape: (5,)\n",
      "Array Size: 5\n",
      "Array Datatype int32\n",
      "First Element: 1\n",
      "4\n"
     ]
    }
   ],
   "source": [
    "#1D Array Properties\n",
    "print(\"Array Dimension:\",arr.ndim) #No of dimensions\n",
    "print(\"Array shape:\",arr.shape) #Shape of array\n",
    "print(\"Array Size:\",arr.size) #Size of array\n",
    "print(\"Array Datatype\",arr.dtype) #Data type of array \n",
    "print(\"First Element:\",arr[0]) #Accessing first element of array\n",
    "print(arr[-2]) #Reverse indexing or accessing second last element\n",
    "\n"
   ]
  },
  {
   "cell_type": "code",
   "execution_count": 126,
   "id": "22730d1f",
   "metadata": {},
   "outputs": [
    {
     "name": "stdout",
     "output_type": "stream",
     "text": [
      "[ 1.    5.75 10.5  15.25 20.  ]\n"
     ]
    }
   ],
   "source": [
    "#linspace function\n",
    "import numpy as np\n",
    "print(np.linspace(1, 20, num=5)) #5 values in between range 1 to 20 evenly spaced\n"
   ]
  },
  {
   "cell_type": "code",
   "execution_count": 127,
   "id": "1b907af1",
   "metadata": {},
   "outputs": [
    {
     "name": "stdout",
     "output_type": "stream",
     "text": [
      "2D Array [[10 20 30]\n",
      " [40 50 60]]\n",
      "Dimension: 2\n",
      "Shape: (2, 3)\n",
      "Size: 6\n",
      "Datatype: int64\n"
     ]
    }
   ],
   "source": [
    "#2D Array creation\n",
    "arr1=np.array([[10,20,30],[40,50,60]]) # 2D array\n",
    "print(\"2D Array\",arr1) #Array\n",
    "print(\"Dimension:\",arr1.ndim) #Dimension of array\n",
    "print(\"Shape:\",arr1.shape) #Shape of array\n",
    "print(\"Size:\",arr1.size) #Size of array\n",
    "print(\"Datatype:\",arr1.dtype) #Datatype of array\n"
   ]
  },
  {
   "cell_type": "code",
   "execution_count": 128,
   "id": "577a2184",
   "metadata": {},
   "outputs": [
    {
     "name": "stdout",
     "output_type": "stream",
     "text": [
      "Zeros Array: [[0. 0. 0.]\n",
      " [0. 0. 0.]]\n",
      "Array Dimension: 2\n",
      "Array shape: (2, 3)\n",
      "Array Size: 6\n",
      "Datatype: float32\n",
      "0.0\n"
     ]
    }
   ],
   "source": [
    "#Zeros Array Creation\n",
    "zeros_arr=np.zeros((2,3),dtype=np.float32) #2D array \n",
    "print(\"Zeros Array:\",zeros_arr) #Array\n",
    "print(\"Array Dimension:\",zeros_arr.ndim) #no of dimension\n",
    "print(\"Array shape:\",zeros_arr.shape) #Shape of array\n",
    "print(\"Array Size:\",zeros_arr.size) #Size of array\n",
    "print(\"Datatype:\",zeros_arr.dtype) #datatype of array\n",
    "print(zeros_arr[0,1]) #Accessing element at 0th row and 1st column\n",
    "\n"
   ]
  },
  {
   "cell_type": "code",
   "execution_count": 129,
   "id": "6696af79",
   "metadata": {},
   "outputs": [
    {
     "name": "stdout",
     "output_type": "stream",
     "text": [
      "Ones Array: [[1. 1.]\n",
      " [1. 1.]\n",
      " [1. 1.]]\n",
      "Array Dimension: 2\n",
      "Array shape: (3, 2)\n",
      "Array Size: 6\n",
      "Datatype: int32\n",
      "1\n"
     ]
    }
   ],
   "source": [
    "#Ones Array Creation\n",
    "ones_arr=np.ones((3,2),dtype=np.int32)\n",
    "print(\"Ones Array:\",arr3) #array\n",
    "\n",
    "print(\"Array Dimension:\",ones_arr.ndim) #no of dimension\n",
    "print(\"Array shape:\",ones_arr.shape) #Shape of array\n",
    "print(\"Array Size:\",ones_arr.size) #Size of array\n",
    "print(\"Datatype:\",ones_arr.dtype) #datatype of array\n",
    "print(ones_arr[1,1]) #Accessing element at 1st row and 1st column\n",
    "\n"
   ]
  },
  {
   "cell_type": "code",
   "execution_count": 130,
   "id": "eb3d4ce1",
   "metadata": {},
   "outputs": [
    {
     "name": "stdout",
     "output_type": "stream",
     "text": [
      "New Reshaped Array: [[10 20]\n",
      " [30 40]\n",
      " [50 60]]\n",
      "Dimension: 2\n",
      "Shape: (3, 2)\n",
      "size: 6\n",
      "Datatype: int64\n",
      "60\n"
     ]
    }
   ],
   "source": [
    "#Array Reshaping\n",
    "arr4=arr1.reshape((3,2)) #Reshaping 2D array to 3x2\n",
    "print(\"New Reshaped Array:\",arr4) #Array\n",
    "\n",
    "print(\"Dimension:\",arr4.ndim)\n",
    "print(\"Shape:\",arr4.shape)\n",
    "print(\"size:\",arr4.size)\n",
    "print(\"Datatype:\",arr4.dtype)\n",
    "print(arr4[2,1]) #Accessing element at 2nd row and 1st column\n"
   ]
  },
  {
   "cell_type": "code",
   "execution_count": 131,
   "id": "8dde6dcb",
   "metadata": {},
   "outputs": [
    {
     "name": "stdout",
     "output_type": "stream",
     "text": [
      "[2 4 5 6]\n",
      "[1 2 3 4]\n"
     ]
    }
   ],
   "source": [
    "#Arrays\n",
    "x=np.array([2,4,5,6])\n",
    "y=np.array([1,2,3,4])\n",
    "print(x)\n",
    "print(y)"
   ]
  },
  {
   "cell_type": "code",
   "execution_count": 132,
   "id": "f08dda6b",
   "metadata": {},
   "outputs": [
    {
     "name": "stdout",
     "output_type": "stream",
     "text": [
      "Maximum element: 60\n"
     ]
    }
   ],
   "source": [
    "#Maximum element \n",
    "print(\"Maximum element:\",arr1.max()) #max(large) element from arr1"
   ]
  },
  {
   "cell_type": "code",
   "execution_count": 133,
   "id": "35748f67",
   "metadata": {},
   "outputs": [
    {
     "name": "stdout",
     "output_type": "stream",
     "text": [
      "Minimum element: 10\n"
     ]
    }
   ],
   "source": [
    "#Minimum element \n",
    "print(\"Minimum element:\",arr1.min()) #min(small) element from arr1"
   ]
  },
  {
   "cell_type": "code",
   "execution_count": 134,
   "id": "6fa0cd95",
   "metadata": {},
   "outputs": [
    {
     "name": "stdout",
     "output_type": "stream",
     "text": [
      "3\n"
     ]
    }
   ],
   "source": [
    "print(np.argmax(x)) #index of maximum element\n"
   ]
  },
  {
   "cell_type": "code",
   "execution_count": 135,
   "id": "1b1f163e",
   "metadata": {},
   "outputs": [
    {
     "name": "stdout",
     "output_type": "stream",
     "text": [
      "0\n"
     ]
    }
   ],
   "source": [
    "print(np.argmin(x)) #index of minimum element\n"
   ]
  },
  {
   "cell_type": "code",
   "execution_count": 136,
   "id": "80e5639b",
   "metadata": {},
   "outputs": [
    {
     "name": "stdout",
     "output_type": "stream",
     "text": [
      "[2 1 1]\n"
     ]
    }
   ],
   "source": [
    "print(np.diff(x)) #Difference between adjacent elements of array\n"
   ]
  },
  {
   "cell_type": "code",
   "execution_count": 137,
   "id": "09efa56d",
   "metadata": {},
   "outputs": [
    {
     "name": "stdout",
     "output_type": "stream",
     "text": [
      "[ 5.  7.  9. 11. 13. 15.]\n"
     ]
    }
   ],
   "source": [
    "print(np.linspace(5,15,num=6)) #6 values in between range 5 o 15 evenly spaced"
   ]
  },
  {
   "cell_type": "code",
   "execution_count": 138,
   "id": "d01420fa",
   "metadata": {},
   "outputs": [
    {
     "name": "stdout",
     "output_type": "stream",
     "text": [
      "Addition: [ 3  6  8 10]\n",
      "Subtraction: [1 2 2 2]\n",
      "Multiplication: [ 2  8 15 24]\n",
      "Division: [2.         2.         1.66666667 1.5       ]\n",
      "Moduls: [0 0 2 2]\n"
     ]
    }
   ],
   "source": [
    "#Arithmetic Operations on array\n",
    "print(\"Addition:\",x+y) #addition\n",
    "print(\"Subtraction:\",x-y) #subtraction\n",
    "print(\"Multiplication:\",x*y) #multiplication\n",
    "print(\"Division:\",x/y) #division\n",
    "print(\"Moduls:\",x%y) #modulas\n"
   ]
  },
  {
   "cell_type": "code",
   "execution_count": 139,
   "id": "513882e5",
   "metadata": {},
   "outputs": [
    {
     "name": "stdout",
     "output_type": "stream",
     "text": [
      "Square [ 4 16 25 36]\n",
      "Cube: [ 1  8 27 64]\n"
     ]
    }
   ],
   "source": [
    "print(\"Square\",x**2) #Square of each element in array x\n",
    "print(\"Cube:\",y**3) #cube of each element in array y"
   ]
  },
  {
   "cell_type": "code",
   "execution_count": 140,
   "id": "c37e63ee",
   "metadata": {},
   "outputs": [
    {
     "name": "stdout",
     "output_type": "stream",
     "text": [
      "Square Root: [1.41421356 2.         2.23606798 2.44948974]\n"
     ]
    }
   ],
   "source": [
    "print(\"Square Root:\",np.sqrt(x)) #Square root of each element \n"
   ]
  },
  {
   "cell_type": "code",
   "execution_count": 141,
   "id": "cd1d2676",
   "metadata": {},
   "outputs": [
    {
     "name": "stdout",
     "output_type": "stream",
     "text": [
      "Mean of x: 4.25\n"
     ]
    }
   ],
   "source": [
    "#Mean of array\n",
    "print(\"Mean of x:\",np.mean(x))\n"
   ]
  },
  {
   "cell_type": "code",
   "execution_count": 142,
   "id": "805c0f27",
   "metadata": {},
   "outputs": [
    {
     "name": "stdout",
     "output_type": "stream",
     "text": [
      "Median of y: 2.5\n"
     ]
    }
   ],
   "source": [
    "#Median of array\n",
    "print(\"Median of y:\",np.median(y))"
   ]
  },
  {
   "cell_type": "code",
   "execution_count": 143,
   "id": "f71aaff0",
   "metadata": {},
   "outputs": [
    {
     "name": "stdout",
     "output_type": "stream",
     "text": [
      "10\n"
     ]
    }
   ],
   "source": [
    "#Array sum\n",
    "print(np.sum(y)) #Sum of all elements in array y"
   ]
  },
  {
   "cell_type": "code",
   "execution_count": 144,
   "id": "d58252d7",
   "metadata": {},
   "outputs": [
    {
     "name": "stdout",
     "output_type": "stream",
     "text": [
      "[[10 40]\n",
      " [20 50]\n",
      " [30 60]]\n"
     ]
    }
   ],
   "source": [
    "print(np.swapaxes(arr1,0,1)) #Swapping axis of array"
   ]
  },
  {
   "cell_type": "code",
   "execution_count": 145,
   "id": "3e1b78c8",
   "metadata": {},
   "outputs": [
    {
     "name": "stdout",
     "output_type": "stream",
     "text": [
      "[[10 20 30]\n",
      " [40 50 60]]\n",
      "[[10 20 30]\n",
      " [40 50 60]]\n"
     ]
    }
   ],
   "source": [
    "print(np.sort(arr1,axis=0)) #swapping array along axis 0\n",
    "print(np.sort(arr1,axis=1)) #swapping array along axis 2"
   ]
  },
  {
   "cell_type": "code",
   "execution_count": 146,
   "id": "535e1f67",
   "metadata": {},
   "outputs": [
    {
     "data": {
      "text/plain": [
       "array([[0, 0, 0],\n",
       "       [0, 0, 0]], dtype=int32)"
      ]
     },
     "execution_count": 146,
     "metadata": {},
     "output_type": "execute_result"
    }
   ],
   "source": [
    "zeros_arr.astype(np.int32) \n"
   ]
  },
  {
   "cell_type": "code",
   "execution_count": 147,
   "id": "48775bda",
   "metadata": {},
   "outputs": [
    {
     "name": "stdout",
     "output_type": "stream",
     "text": [
      "\u001b[31mType:\u001b[39m        ndarray\n",
      "\u001b[31mString form:\u001b[39m\n",
      "[[10 20 30]\n",
      " [40 50 60]]\n",
      "\u001b[31mLength:\u001b[39m      2\n",
      "\u001b[31mFile:\u001b[39m        c:\\users\\hp\\appdata\\local\\programs\\python\\python311\\lib\\site-packages\\numpy\\__init__.py\n",
      "\u001b[31mDocstring:\u001b[39m  \n",
      "ndarray(shape, dtype=float, buffer=None, offset=0,\n",
      "        strides=None, order=None)\n",
      "\n",
      "An array object represents a multidimensional, homogeneous array\n",
      "of fixed-size items.  An associated data-type object describes the\n",
      "format of each element in the array (its byte-order, how many bytes it\n",
      "occupies in memory, whether it is an integer, a floating point number,\n",
      "or something else, etc.)\n",
      "\n",
      "Arrays should be constructed using `array`, `zeros` or `empty` (refer\n",
      "to the See Also section below).  The parameters given here refer to\n",
      "a low-level method (`ndarray(...)`) for instantiating an array.\n",
      "\n",
      "For more information, refer to the `numpy` module and examine the\n",
      "methods and attributes of an array.\n",
      "\n",
      "Parameters\n",
      "----------\n",
      "(for the __new__ method; see Notes below)\n",
      "\n",
      "shape : tuple of ints\n",
      "    Shape of created array.\n",
      "dtype : data-type, optional\n",
      "    Any object that can be interpreted as a numpy data type.\n",
      "buffer : object exposing buffer interface, optional\n",
      "    Used to fill the array with data.\n",
      "offset : int, optional\n",
      "    Offset of array data in buffer.\n",
      "strides : tuple of ints, optional\n",
      "    Strides of data in memory.\n",
      "order : {'C', 'F'}, optional\n",
      "    Row-major (C-style) or column-major (Fortran-style) order.\n",
      "\n",
      "Attributes\n",
      "----------\n",
      "T : ndarray\n",
      "    Transpose of the array.\n",
      "data : buffer\n",
      "    The array's elements, in memory.\n",
      "dtype : dtype object\n",
      "    Describes the format of the elements in the array.\n",
      "flags : dict\n",
      "    Dictionary containing information related to memory use, e.g.,\n",
      "    'C_CONTIGUOUS', 'OWNDATA', 'WRITEABLE', etc.\n",
      "flat : numpy.flatiter object\n",
      "    Flattened version of the array as an iterator.  The iterator\n",
      "    allows assignments, e.g., ``x.flat = 3`` (See `ndarray.flat` for\n",
      "    assignment examples; TODO).\n",
      "imag : ndarray\n",
      "    Imaginary part of the array.\n",
      "real : ndarray\n",
      "    Real part of the array.\n",
      "size : int\n",
      "    Number of elements in the array.\n",
      "itemsize : int\n",
      "    The memory use of each array element in bytes.\n",
      "nbytes : int\n",
      "    The total number of bytes required to store the array data,\n",
      "    i.e., ``itemsize * size``.\n",
      "ndim : int\n",
      "    The array's number of dimensions.\n",
      "shape : tuple of ints\n",
      "    Shape of the array.\n",
      "strides : tuple of ints\n",
      "    The step-size required to move from one element to the next in\n",
      "    memory. For example, a contiguous ``(3, 4)`` array of type\n",
      "    ``int16`` in C-order has strides ``(8, 2)``.  This implies that\n",
      "    to move from element to element in memory requires jumps of 2 bytes.\n",
      "    To move from row-to-row, one needs to jump 8 bytes at a time\n",
      "    (``2 * 4``).\n",
      "ctypes : ctypes object\n",
      "    Class containing properties of the array needed for interaction\n",
      "    with ctypes.\n",
      "base : ndarray\n",
      "    If the array is a view into another array, that array is its `base`\n",
      "    (unless that array is also a view).  The `base` array is where the\n",
      "    array data is actually stored.\n",
      "\n",
      "See Also\n",
      "--------\n",
      "array : Construct an array.\n",
      "zeros : Create an array, each element of which is zero.\n",
      "empty : Create an array, but leave its allocated memory unchanged (i.e.,\n",
      "        it contains \"garbage\").\n",
      "dtype : Create a data-type.\n",
      "numpy.typing.NDArray : An ndarray alias :term:`generic <generic type>`\n",
      "                       w.r.t. its `dtype.type <numpy.dtype.type>`.\n",
      "\n",
      "Notes\n",
      "-----\n",
      "There are two modes of creating an array using ``__new__``:\n",
      "\n",
      "1. If `buffer` is None, then only `shape`, `dtype`, and `order`\n",
      "   are used.\n",
      "2. If `buffer` is an object exposing the buffer interface, then\n",
      "   all keywords are interpreted.\n",
      "\n",
      "No ``__init__`` method is needed because the array is fully initialized\n",
      "after the ``__new__`` method.\n",
      "\n",
      "Examples\n",
      "--------\n",
      "These examples illustrate the low-level `ndarray` constructor.  Refer\n",
      "to the `See Also` section above for easier ways of constructing an\n",
      "ndarray.\n",
      "\n",
      "First mode, `buffer` is None:\n",
      "\n",
      ">>> import numpy as np\n",
      ">>> np.ndarray(shape=(2,2), dtype=float, order='F')\n",
      "array([[0.0e+000, 0.0e+000], # random\n",
      "       [     nan, 2.5e-323]])\n",
      "\n",
      "Second mode:\n",
      "\n",
      ">>> np.ndarray((2,), buffer=np.array([1,2,3]),\n",
      "...            offset=np.int_().itemsize,\n",
      "...            dtype=int) # offset = 1*itemsize, i.e. skip first element\n",
      "array([2, 3])"
     ]
    }
   ],
   "source": [
    "?arr1 "
   ]
  }
 ],
 "metadata": {
  "kernelspec": {
   "display_name": "Python 3",
   "language": "python",
   "name": "python3"
  },
  "language_info": {
   "codemirror_mode": {
    "name": "ipython",
    "version": 3
   },
   "file_extension": ".py",
   "mimetype": "text/x-python",
   "name": "python",
   "nbconvert_exporter": "python",
   "pygments_lexer": "ipython3",
   "version": "3.11.4"
  }
 },
 "nbformat": 4,
 "nbformat_minor": 5
}
