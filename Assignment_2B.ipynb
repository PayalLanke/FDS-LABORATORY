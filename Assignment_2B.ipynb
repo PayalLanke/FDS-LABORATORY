{
 "cells": [
  {
   "cell_type": "code",
   "execution_count": null,
   "id": "957ce7ba",
   "metadata": {},
   "outputs": [
    {
     "name": "stdout",
     "output_type": "stream",
     "text": [
      "     EmpID           Name  Age  Gender Department   Salary JoiningDate  \\\n",
      "0        1     Employee_1   50  Female      Sales  90000.0  2015-01-01   \n",
      "1        2     Employee_2   36    Male    Finance  62500.0  2015-01-02   \n",
      "2        3     Employee_3   29    Male    Finance  39500.0  2015-01-03   \n",
      "3        4     Employee_4   42    Male      Sales  35000.0  2015-01-04   \n",
      "4        5     Employee_5   40    Male    Finance  41500.0  2015-01-05   \n",
      "..     ...            ...  ...     ...        ...      ...         ...   \n",
      "995    996   Employee_996   34  Female         HR  31000.0  2017-09-22   \n",
      "996    997   Employee_997   51  Female         IT  56500.0  2017-09-23   \n",
      "997    998   Employee_998   44    Male    Finance  98000.0  2017-09-24   \n",
      "998    999   Employee_999   40  Female      Sales  64500.0  2017-09-25   \n",
      "999   1000  Employee_1000   53  Female      Sales  86000.0  2017-09-26   \n",
      "\n",
      "     PerformanceScore  WorkHours  \n",
      "0                 3.0       43.0  \n",
      "1                 2.0       54.0  \n",
      "2                 1.0       54.0  \n",
      "3                 4.0       37.0  \n",
      "4                 4.0       37.0  \n",
      "..                ...        ...  \n",
      "995               2.0       36.0  \n",
      "996               1.0       44.0  \n",
      "997               4.0       51.0  \n",
      "998               1.0       53.0  \n",
      "999               5.0       40.0  \n",
      "\n",
      "[1000 rows x 9 columns]\n"
     ]
    }
   ],
   "source": [
    "#Name:Lanke Payal Sambhaji\n",
    "#Roll No:152\n",
    "#Date:29/08/2025"
   ]
  },
  {
   "cell_type": "code",
   "execution_count": 16,
   "id": "9a841d24",
   "metadata": {},
   "outputs": [
    {
     "name": "stdout",
     "output_type": "stream",
     "text": [
      "     EmpID           Name  Age  Gender Department   Salary JoiningDate  \\\n",
      "0        1     Employee_1   50  Female      Sales  90000.0  2015-01-01   \n",
      "1        2     Employee_2   36    Male    Finance  62500.0  2015-01-02   \n",
      "2        3     Employee_3   29    Male    Finance  39500.0  2015-01-03   \n",
      "3        4     Employee_4   42    Male      Sales  35000.0  2015-01-04   \n",
      "4        5     Employee_5   40    Male    Finance  41500.0  2015-01-05   \n",
      "..     ...            ...  ...     ...        ...      ...         ...   \n",
      "995    996   Employee_996   34  Female         HR  31000.0  2017-09-22   \n",
      "996    997   Employee_997   51  Female         IT  56500.0  2017-09-23   \n",
      "997    998   Employee_998   44    Male    Finance  98000.0  2017-09-24   \n",
      "998    999   Employee_999   40  Female      Sales  64500.0  2017-09-25   \n",
      "999   1000  Employee_1000   53  Female      Sales  86000.0  2017-09-26   \n",
      "\n",
      "     PerformanceScore  WorkHours  \n",
      "0                 3.0       43.0  \n",
      "1                 2.0       54.0  \n",
      "2                 1.0       54.0  \n",
      "3                 4.0       37.0  \n",
      "4                 4.0       37.0  \n",
      "..                ...        ...  \n",
      "995               2.0       36.0  \n",
      "996               1.0       44.0  \n",
      "997               4.0       51.0  \n",
      "998               1.0       53.0  \n",
      "999               5.0       40.0  \n",
      "\n",
      "[1000 rows x 9 columns]\n"
     ]
    }
   ],
   "source": [
    "import pandas as pd\n",
    "df=pd.read_csv(\"E:\\FDS LABORATORY\\employee_dataset.csv\")#Reading the dataset\n",
    "print(df)\n"
   ]
  },
  {
   "cell_type": "code",
   "execution_count": 3,
   "id": "a2c26f82",
   "metadata": {},
   "outputs": [
    {
     "name": "stdout",
     "output_type": "stream",
     "text": [
      "<class 'pandas.core.frame.DataFrame'>\n",
      "RangeIndex: 1000 entries, 0 to 999\n",
      "Data columns (total 9 columns):\n",
      " #   Column            Non-Null Count  Dtype  \n",
      "---  ------            --------------  -----  \n",
      " 0   EmpID             1000 non-null   int64  \n",
      " 1   Name              1000 non-null   object \n",
      " 2   Age               1000 non-null   int64  \n",
      " 3   Gender            1000 non-null   object \n",
      " 4   Department        1000 non-null   object \n",
      " 5   Salary            995 non-null    float64\n",
      " 6   JoiningDate       1000 non-null   object \n",
      " 7   PerformanceScore  823 non-null    float64\n",
      " 8   WorkHours         963 non-null    float64\n",
      "dtypes: float64(3), int64(2), object(4)\n",
      "memory usage: 70.4+ KB\n"
     ]
    }
   ],
   "source": [
    "df.info()"
   ]
  },
  {
   "cell_type": "code",
   "execution_count": 4,
   "id": "aa6bffe8",
   "metadata": {},
   "outputs": [
    {
     "name": "stdout",
     "output_type": "stream",
     "text": [
      "EmpID               0\n",
      "Name                0\n",
      "Age                 0\n",
      "Gender              0\n",
      "Department          0\n",
      "Salary              0\n",
      "JoiningDate         0\n",
      "PerformanceScore    0\n",
      "WorkHours           0\n",
      "dtype: int64\n"
     ]
    },
    {
     "name": "stderr",
     "output_type": "stream",
     "text": [
      "C:\\Users\\HP\\AppData\\Local\\Temp\\ipykernel_19660\\836882572.py:5: FutureWarning: A value is trying to be set on a copy of a DataFrame or Series through chained assignment using an inplace method.\n",
      "The behavior will change in pandas 3.0. This inplace method will never work because the intermediate object on which we are setting values always behaves as a copy.\n",
      "\n",
      "For example, when doing 'df[col].method(value, inplace=True)', try using 'df.method({col: value}, inplace=True)' or df[col] = df[col].method(value) instead, to perform the operation inplace on the original object.\n",
      "\n",
      "\n",
      "  df['Salary'].fillna(df['Salary'].mean(), inplace=True)\n",
      "C:\\Users\\HP\\AppData\\Local\\Temp\\ipykernel_19660\\836882572.py:6: FutureWarning: A value is trying to be set on a copy of a DataFrame or Series through chained assignment using an inplace method.\n",
      "The behavior will change in pandas 3.0. This inplace method will never work because the intermediate object on which we are setting values always behaves as a copy.\n",
      "\n",
      "For example, when doing 'df[col].method(value, inplace=True)', try using 'df.method({col: value}, inplace=True)' or df[col] = df[col].method(value) instead, to perform the operation inplace on the original object.\n",
      "\n",
      "\n",
      "  df['PerformanceScore'].fillna(df['PerformanceScore'].median(), inplace=True)\n",
      "C:\\Users\\HP\\AppData\\Local\\Temp\\ipykernel_19660\\836882572.py:7: FutureWarning: A value is trying to be set on a copy of a DataFrame or Series through chained assignment using an inplace method.\n",
      "The behavior will change in pandas 3.0. This inplace method will never work because the intermediate object on which we are setting values always behaves as a copy.\n",
      "\n",
      "For example, when doing 'df[col].method(value, inplace=True)', try using 'df.method({col: value}, inplace=True)' or df[col] = df[col].method(value) instead, to perform the operation inplace on the original object.\n",
      "\n",
      "\n",
      "  df['WorkHours'].fillna(df['WorkHours'].mean(), inplace=True)\n"
     ]
    }
   ],
   "source": [
    "df['Salary'] = pd.to_numeric(df['Salary'])\n",
    "df['PerformanceScore'] = pd.to_numeric(df['PerformanceScore'])\n",
    "df['WorkHours'] = pd.to_numeric(df['WorkHours'])\n",
    "\n",
    "df['Salary'].fillna(df['Salary'].mean(), inplace=True)\n",
    "df['PerformanceScore'].fillna(df['PerformanceScore'].median(), inplace=True)\n",
    "df['WorkHours'].fillna(df['WorkHours'].mean(), inplace=True)\n",
    "\n",
    "print(df.isnull().sum())   "
   ]
  },
  {
   "cell_type": "code",
   "execution_count": null,
   "id": "c19b907a",
   "metadata": {},
   "outputs": [
    {
     "name": "stdout",
     "output_type": "stream",
     "text": [
      "<class 'pandas.core.frame.DataFrame'>\n",
      "RangeIndex: 1000 entries, 0 to 999\n",
      "Data columns (total 9 columns):\n",
      " #   Column            Non-Null Count  Dtype  \n",
      "---  ------            --------------  -----  \n",
      " 0   EmpID             1000 non-null   int64  \n",
      " 1   Name              1000 non-null   object \n",
      " 2   Age               1000 non-null   int64  \n",
      " 3   Gender            1000 non-null   object \n",
      " 4   Department        1000 non-null   object \n",
      " 5   Salary            1000 non-null   float64\n",
      " 6   JoiningDate       1000 non-null   object \n",
      " 7   PerformanceScore  1000 non-null   float64\n",
      " 8   WorkHours         1000 non-null   float64\n",
      "dtypes: float64(3), int64(2), object(4)\n",
      "memory usage: 70.4+ KB\n"
     ]
    }
   ],
   "source": [
    "df.info() #Structural form of data"
   ]
  },
  {
   "cell_type": "code",
   "execution_count": 6,
   "id": "636b68b4",
   "metadata": {},
   "outputs": [
    {
     "data": {
      "text/plain": [
       "EmpID               0\n",
       "Name                0\n",
       "Age                 0\n",
       "Gender              0\n",
       "Department          0\n",
       "Salary              0\n",
       "JoiningDate         0\n",
       "PerformanceScore    0\n",
       "WorkHours           0\n",
       "dtype: int64"
      ]
     },
     "execution_count": 6,
     "metadata": {},
     "output_type": "execute_result"
    }
   ],
   "source": [
    "df.isnull().sum() #Checking for null values"
   ]
  },
  {
   "cell_type": "code",
   "execution_count": null,
   "id": "78841f57",
   "metadata": {},
   "outputs": [
    {
     "name": "stdout",
     "output_type": "stream",
     "text": [
      "0\n"
     ]
    },
    {
     "name": "stderr",
     "output_type": "stream",
     "text": [
      "C:\\Users\\HP\\AppData\\Local\\Temp\\ipykernel_19660\\1051903230.py:1: FutureWarning: A value is trying to be set on a copy of a DataFrame or Series through chained assignment using an inplace method.\n",
      "The behavior will change in pandas 3.0. This inplace method will never work because the intermediate object on which we are setting values always behaves as a copy.\n",
      "\n",
      "For example, when doing 'df[col].method(value, inplace=True)', try using 'df.method({col: value}, inplace=True)' or df[col] = df[col].method(value) instead, to perform the operation inplace on the original object.\n",
      "\n",
      "\n",
      "  df['Salary'].fillna(0,inplace=True)\n"
     ]
    },
    {
     "data": {
      "text/plain": [
       "EmpID               0\n",
       "Name                0\n",
       "Age                 0\n",
       "Gender              0\n",
       "Department          0\n",
       "Salary              0\n",
       "JoiningDate         0\n",
       "PerformanceScore    0\n",
       "WorkHours           0\n",
       "dtype: int64"
      ]
     },
     "execution_count": 7,
     "metadata": {},
     "output_type": "execute_result"
    }
   ],
   "source": [
    "df['Salary'].fillna(0,inplace=True)#filling null values\n",
    "print(df['Salary'].isnull().sum())\n",
    "df.isnull().sum()"
   ]
  },
  {
   "cell_type": "code",
   "execution_count": null,
   "id": "184ef811",
   "metadata": {},
   "outputs": [
    {
     "name": "stdout",
     "output_type": "stream",
     "text": [
      "0\n"
     ]
    },
    {
     "name": "stderr",
     "output_type": "stream",
     "text": [
      "C:\\Users\\HP\\AppData\\Local\\Temp\\ipykernel_19660\\4279890758.py:1: FutureWarning: A value is trying to be set on a copy of a DataFrame or Series through chained assignment using an inplace method.\n",
      "The behavior will change in pandas 3.0. This inplace method will never work because the intermediate object on which we are setting values always behaves as a copy.\n",
      "\n",
      "For example, when doing 'df[col].method(value, inplace=True)', try using 'df.method({col: value}, inplace=True)' or df[col] = df[col].method(value) instead, to perform the operation inplace on the original object.\n",
      "\n",
      "\n",
      "  df['Salary'].fillna(df['Salary'].mean(),inplace=True)\n"
     ]
    },
    {
     "data": {
      "text/plain": [
       "EmpID               0\n",
       "Name                0\n",
       "Age                 0\n",
       "Gender              0\n",
       "Department          0\n",
       "Salary              0\n",
       "JoiningDate         0\n",
       "PerformanceScore    0\n",
       "WorkHours           0\n",
       "dtype: int64"
      ]
     },
     "execution_count": 8,
     "metadata": {},
     "output_type": "execute_result"
    }
   ],
   "source": [
    "df['Salary'].fillna(df['Salary'].mean(),inplace=True)#filling null values with salaray mean\n",
    "print(df['Salary'].isnull().sum())\n",
    "df.isnull().sum()"
   ]
  },
  {
   "cell_type": "code",
   "execution_count": null,
   "id": "ef2dc1cd",
   "metadata": {},
   "outputs": [
    {
     "name": "stdout",
     "output_type": "stream",
     "text": [
      "None\n"
     ]
    },
    {
     "name": "stderr",
     "output_type": "stream",
     "text": [
      "C:\\Users\\HP\\AppData\\Local\\Temp\\ipykernel_19660\\3778678450.py:1: FutureWarning: A value is trying to be set on a copy of a DataFrame or Series through chained assignment using an inplace method.\n",
      "The behavior will change in pandas 3.0. This inplace method will never work because the intermediate object on which we are setting values always behaves as a copy.\n",
      "\n",
      "For example, when doing 'df[col].method(value, inplace=True)', try using 'df.method({col: value}, inplace=True)' or df[col] = df[col].method(value) instead, to perform the operation inplace on the original object.\n",
      "\n",
      "\n",
      "  df['WorkHours'].fillna(df['WorkHours'].mean(), inplace=True)\n",
      "C:\\Users\\HP\\AppData\\Local\\Temp\\ipykernel_19660\\3778678450.py:2: FutureWarning: A value is trying to be set on a copy of a DataFrame or Series through chained assignment using an inplace method.\n",
      "The behavior will change in pandas 3.0. This inplace method will never work because the intermediate object on which we are setting values always behaves as a copy.\n",
      "\n",
      "For example, when doing 'df[col].method(value, inplace=True)', try using 'df.method({col: value}, inplace=True)' or df[col] = df[col].method(value) instead, to perform the operation inplace on the original object.\n",
      "\n",
      "\n",
      "  print(df['WorkHours'].fillna(df['WorkHours'].mean(),inplace=True))\n"
     ]
    },
    {
     "data": {
      "text/plain": [
       "EmpID               0\n",
       "Name                0\n",
       "Age                 0\n",
       "Gender              0\n",
       "Department          0\n",
       "Salary              0\n",
       "JoiningDate         0\n",
       "PerformanceScore    0\n",
       "WorkHours           0\n",
       "dtype: int64"
      ]
     },
     "execution_count": 9,
     "metadata": {},
     "output_type": "execute_result"
    }
   ],
   "source": [
    "df['WorkHours'].fillna(df['WorkHours'].mean(), inplace=True) #Filling null values with mean\n",
    "print(df['WorkHours'].fillna(df['WorkHours'].mean(),inplace=True))\n",
    "df.isnull().sum()"
   ]
  },
  {
   "cell_type": "code",
   "execution_count": null,
   "id": "7ec6ce04",
   "metadata": {},
   "outputs": [
    {
     "name": "stdout",
     "output_type": "stream",
     "text": [
      "0\n"
     ]
    }
   ],
   "source": [
    "print(df.duplicated().sum())#Duplicated values count"
   ]
  },
  {
   "cell_type": "code",
   "execution_count": null,
   "id": "4d95f010",
   "metadata": {},
   "outputs": [
    {
     "name": "stdout",
     "output_type": "stream",
     "text": [
      "Department\n",
      "Finance      62483.173077\n",
      "HR           64350.785340\n",
      "IT           59035.502959\n",
      "Marketing    62796.650718\n",
      "Sales        62049.327354\n",
      "Name: Salary, dtype: float64\n"
     ]
    }
   ],
   "source": [
    "#Groupby Clause and Aggregate Function\n",
    "print(df.groupby('Department')['Gender'].mean())"
   ]
  },
  {
   "cell_type": "code",
   "execution_count": 11,
   "id": "a6d1c2ac",
   "metadata": {},
   "outputs": [
    {
     "data": {
      "text/html": [
       "<div>\n",
       "<style scoped>\n",
       "    .dataframe tbody tr th:only-of-type {\n",
       "        vertical-align: middle;\n",
       "    }\n",
       "\n",
       "    .dataframe tbody tr th {\n",
       "        vertical-align: top;\n",
       "    }\n",
       "\n",
       "    .dataframe thead th {\n",
       "        text-align: right;\n",
       "    }\n",
       "</style>\n",
       "<table border=\"1\" class=\"dataframe\">\n",
       "  <thead>\n",
       "    <tr style=\"text-align: right;\">\n",
       "      <th></th>\n",
       "      <th>mean</th>\n",
       "      <th>max</th>\n",
       "      <th>min</th>\n",
       "      <th>count</th>\n",
       "    </tr>\n",
       "    <tr>\n",
       "      <th>Department</th>\n",
       "      <th></th>\n",
       "      <th></th>\n",
       "      <th></th>\n",
       "      <th></th>\n",
       "    </tr>\n",
       "  </thead>\n",
       "  <tbody>\n",
       "    <tr>\n",
       "      <th>Finance</th>\n",
       "      <td>62483.173077</td>\n",
       "      <td>99500.0</td>\n",
       "      <td>25000.0</td>\n",
       "      <td>208</td>\n",
       "    </tr>\n",
       "    <tr>\n",
       "      <th>HR</th>\n",
       "      <td>64678.213055</td>\n",
       "      <td>100000.0</td>\n",
       "      <td>25000.0</td>\n",
       "      <td>191</td>\n",
       "    </tr>\n",
       "    <tr>\n",
       "      <th>IT</th>\n",
       "      <td>59035.502959</td>\n",
       "      <td>97500.0</td>\n",
       "      <td>25000.0</td>\n",
       "      <td>169</td>\n",
       "    </tr>\n",
       "    <tr>\n",
       "      <th>Marketing</th>\n",
       "      <td>63694.335313</td>\n",
       "      <td>100000.0</td>\n",
       "      <td>25000.0</td>\n",
       "      <td>209</td>\n",
       "    </tr>\n",
       "    <tr>\n",
       "      <th>Sales</th>\n",
       "      <td>62329.769926</td>\n",
       "      <td>100000.0</td>\n",
       "      <td>25500.0</td>\n",
       "      <td>223</td>\n",
       "    </tr>\n",
       "  </tbody>\n",
       "</table>\n",
       "</div>"
      ],
      "text/plain": [
       "                    mean       max      min  count\n",
       "Department                                        \n",
       "Finance     62483.173077   99500.0  25000.0    208\n",
       "HR          64678.213055  100000.0  25000.0    191\n",
       "IT          59035.502959   97500.0  25000.0    169\n",
       "Marketing   63694.335313  100000.0  25000.0    209\n",
       "Sales       62329.769926  100000.0  25500.0    223"
      ]
     },
     "execution_count": 11,
     "metadata": {},
     "output_type": "execute_result"
    }
   ],
   "source": [
    "#Aggregate Functions unsing groupby \n",
    "df.groupby('Department')['Salary'].agg(['mean','max','min','count'])"
   ]
  },
  {
   "cell_type": "code",
   "execution_count": 12,
   "id": "67695750",
   "metadata": {},
   "outputs": [
    {
     "data": {
      "text/plain": [
       "Department  WorkHours  PerformanceScore\n",
       "Finance     30.0       1.0                 26000.000000\n",
       "                       2.0                 35000.000000\n",
       "                       3.0                 62666.666667\n",
       "            31.0       1.0                 66500.000000\n",
       "                       3.0                 74500.000000\n",
       "                                               ...     \n",
       "Sales       59.0       4.0                 55000.000000\n",
       "            60.0       1.0                 66000.000000\n",
       "                       2.0                 75500.000000\n",
       "                       3.0                 73125.000000\n",
       "                       4.0                 69000.000000\n",
       "Name: Salary, Length: 565, dtype: float64"
      ]
     },
     "execution_count": 12,
     "metadata": {},
     "output_type": "execute_result"
    }
   ],
   "source": [
    "#group by using multiple columns\n",
    "df.groupby(['Department','WorkHours','PerformanceScore'])['Salary'].mean()\n"
   ]
  },
  {
   "cell_type": "code",
   "execution_count": 13,
   "id": "8ab77cdd",
   "metadata": {},
   "outputs": [
    {
     "data": {
      "text/plain": [
       "<Axes: ylabel='Frequency'>"
      ]
     },
     "execution_count": 13,
     "metadata": {},
     "output_type": "execute_result"
    },
    {
     "data": {
      "image/png": "[encoded data removed]",
      "text/plain": [
       "<Figure size 640x480 with 1 Axes>"
      ]
     },
     "metadata": {},
     "output_type": "display_data"
    }
   ],
   "source": [
    "df['PerformanceScore'].plot(kind='hist',color=\"pink\") # histogram plotting"
   ]
  },
  {
   "cell_type": "code",
   "execution_count": 14,
   "id": "a79493ff",
   "metadata": {},
   "outputs": [
    {
     "data": {
      "text/plain": [
       "<Axes: xlabel='WorkHours', ylabel='Salary'>"
      ]
     },
     "execution_count": 14,
     "metadata": {},
     "output_type": "execute_result"
    },
    {
     "data": {
      "image/png": "[encoded data removed]",
      "text/plain": [
       "<Figure size 640x480 with 1 Axes>"
      ]
     },
     "metadata": {},
     "output_type": "display_data"
    }
   ],
   "source": [
    "df.plot(x='WorkHours', y='Salary', kind='scatter')"
   ]
  },
  {
   "cell_type": "code",
   "execution_count": 15,
   "id": "ed4c38f1",
   "metadata": {},
   "outputs": [
    {
     "data": {
      "text/plain": [
       "<Axes: >"
      ]
     },
     "execution_count": 15,
     "metadata": {},
     "output_type": "execute_result"
    },
    {
     "data": {
      "image/png": "[encoded data removed]",
      "text/plain": [
       "<Figure size 640x480 with 1 Axes>"
      ]
     },
     "metadata": {},
     "output_type": "display_data"
    }
   ],
   "source": [
    "df['Salary'].plot(kind='box',color='red') #Box plot"
   ]
  }
 ],
 "metadata": {
  "kernelspec": {
   "display_name": "Python 3",
   "language": "python",
   "name": "python3"
  },
  "language_info": {
   "codemirror_mode": {
    "name": "ipython",
    "version": 3
   },
   "file_extension": ".py",
   "mimetype": "text/x-python",
   "name": "python",
   "nbconvert_exporter": "python",
   "pygments_lexer": "ipython3",
   "version": "3.11.4"
  }
 },
 "nbformat": 4,
 "nbformat_minor": 5
}
