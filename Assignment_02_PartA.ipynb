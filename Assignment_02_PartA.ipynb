{
 "cells": [
  {
   "cell_type": "code",
   "execution_count": null,
   "id": "eb4f18d5",
   "metadata": {},
   "outputs": [],
   "source": [
    "#Name:Lanke Payal\n",
    "#Roll No:152\n",
    "#Div:B\n",
    "#22/8/25"
   ]
  },
  {
   "cell_type": "code",
   "execution_count": 33,
   "id": "d841dee0",
   "metadata": {},
   "outputs": [],
   "source": [
    "\n",
    "#import \n",
    "import pandas as pd"
   ]
  },
  {
   "cell_type": "code",
   "execution_count": 2,
   "id": "076c2016",
   "metadata": {},
   "outputs": [
    {
     "name": "stdout",
     "output_type": "stream",
     "text": [
      "a      Shital\n",
      "b       Pooja\n",
      "c       Gauri\n",
      "d    Shraddha\n",
      "dtype: object\n",
      "Access Signle Value: Pooja\n"
     ]
    }
   ],
   "source": [
    "#Creating The Series\n",
    "#Series Always 1D\n",
    "s=pd.Series(['Shital','Pooja','Gauri','Shraddha'],index=['a','b','c','d'])\n",
    "print(s)\n",
    "print(\"Access Signle Value:\",s['b'])#Access A Single Value\n",
    "\n"
   ]
  },
  {
   "cell_type": "code",
   "execution_count": 3,
   "id": "0b216aba",
   "metadata": {},
   "outputs": [
    {
     "data": {
      "text/plain": [
       "pandas.core.series.Series"
      ]
     },
     "execution_count": 3,
     "metadata": {},
     "output_type": "execute_result"
    }
   ],
   "source": [
    "#Type Of Series\n",
    "type(s)"
   ]
  },
  {
   "cell_type": "code",
   "execution_count": 8,
   "id": "c29ad344",
   "metadata": {},
   "outputs": [
    {
     "name": "stdout",
     "output_type": "stream",
     "text": [
      "DataFrame\n",
      "Access Single Column\n",
      "0    19\n",
      "1    18\n",
      "2    17\n",
      "3    15\n",
      "Name: Age, dtype: int64\n"
     ]
    }
   ],
   "source": [
    "\n",
    "#DataFrame Creation\n",
    "#2D \n",
    "data={\n",
    "      'Name':['Payal','Gauri','Mitali','Fiza'],\n",
    "       'RollNo':[152,151,154,155],\n",
    "       'Age': [19,18,17,15],\n",
    "       'Marks':[50,40,60,75]\n",
    "}\n",
    "\n",
    "df1=pd.DataFrame(data)\n",
    "print(\"DataFrame\")\n",
    "print(\"Access Single Column\")\n",
    "print(df1['Age'])"
   ]
  },
  {
   "cell_type": "code",
   "execution_count": 9,
   "id": "12c0a85a",
   "metadata": {},
   "outputs": [
    {
     "data": {
      "text/plain": [
       "pandas.core.frame.DataFrame"
      ]
     },
     "execution_count": 9,
     "metadata": {},
     "output_type": "execute_result"
    }
   ],
   "source": [
    "type(df1)#Type of dataframe"
   ]
  },
  {
   "cell_type": "code",
   "execution_count": 10,
   "id": "e00ff43f",
   "metadata": {},
   "outputs": [
    {
     "data": {
      "text/html": [
       "<div>\n",
       "<style scoped>\n",
       "    .dataframe tbody tr th:only-of-type {\n",
       "        vertical-align: middle;\n",
       "    }\n",
       "\n",
       "    .dataframe tbody tr th {\n",
       "        vertical-align: top;\n",
       "    }\n",
       "\n",
       "    .dataframe thead th {\n",
       "        text-align: right;\n",
       "    }\n",
       "</style>\n",
       "<table border=\"1\" class=\"dataframe\">\n",
       "  <thead>\n",
       "    <tr style=\"text-align: right;\">\n",
       "      <th></th>\n",
       "      <th>Vehicle_ID</th>\n",
       "      <th>Manufacturer</th>\n",
       "      <th>Model</th>\n",
       "      <th>Year</th>\n",
       "      <th>Battery_Type</th>\n",
       "      <th>Battery_Capacity_kWh</th>\n",
       "      <th>Range_km</th>\n",
       "      <th>Charging_Type</th>\n",
       "      <th>Charge_Time_hr</th>\n",
       "      <th>Price_USD</th>\n",
       "      <th>Color</th>\n",
       "      <th>Country_of_Manufacture</th>\n",
       "      <th>Autonomous_Level</th>\n",
       "      <th>CO2_Emissions_g_per_km</th>\n",
       "      <th>Safety_Rating</th>\n",
       "      <th>Units_Sold_2024</th>\n",
       "      <th>Warranty_Years</th>\n",
       "    </tr>\n",
       "  </thead>\n",
       "  <tbody>\n",
       "    <tr>\n",
       "      <th>0</th>\n",
       "      <td>1</td>\n",
       "      <td>Acura</td>\n",
       "      <td>ZDX (with GM Ultium)</td>\n",
       "      <td>2015</td>\n",
       "      <td>Lithium-titanate</td>\n",
       "      <td>55.8</td>\n",
       "      <td>214</td>\n",
       "      <td>CHAdeMO</td>\n",
       "      <td>9.0</td>\n",
       "      <td>111203.94</td>\n",
       "      <td>Matte White</td>\n",
       "      <td>UK</td>\n",
       "      <td>0.0</td>\n",
       "      <td>NaN</td>\n",
       "      <td>5.0</td>\n",
       "      <td>19726</td>\n",
       "      <td>3</td>\n",
       "    </tr>\n",
       "    <tr>\n",
       "      <th>1</th>\n",
       "      <td>2</td>\n",
       "      <td>Lamborghini</td>\n",
       "      <td>Revuelto (PHEV)</td>\n",
       "      <td>2025</td>\n",
       "      <td>Lithium-titanate</td>\n",
       "      <td>90.8</td>\n",
       "      <td>212</td>\n",
       "      <td>Vehicle-to-Home (V2H)</td>\n",
       "      <td>7.3</td>\n",
       "      <td>127131.65</td>\n",
       "      <td>White</td>\n",
       "      <td>Netherlands</td>\n",
       "      <td>2.0</td>\n",
       "      <td>0.0</td>\n",
       "      <td>4.0</td>\n",
       "      <td>3349</td>\n",
       "      <td>3</td>\n",
       "    </tr>\n",
       "    <tr>\n",
       "      <th>2</th>\n",
       "      <td>3</td>\n",
       "      <td>NIO</td>\n",
       "      <td>ET7</td>\n",
       "      <td>2020</td>\n",
       "      <td>Calcium-ion</td>\n",
       "      <td>64.7</td>\n",
       "      <td>235</td>\n",
       "      <td>Level 2 Charging</td>\n",
       "      <td>8.9</td>\n",
       "      <td>94347.37</td>\n",
       "      <td>Beige</td>\n",
       "      <td>UK</td>\n",
       "      <td>5.0</td>\n",
       "      <td>0.0</td>\n",
       "      <td>5.0</td>\n",
       "      <td>6300</td>\n",
       "      <td>5</td>\n",
       "    </tr>\n",
       "    <tr>\n",
       "      <th>3</th>\n",
       "      <td>4</td>\n",
       "      <td>Audi</td>\n",
       "      <td>e-tron</td>\n",
       "      <td>2025</td>\n",
       "      <td>Lithium-iron phosphate</td>\n",
       "      <td>120.5</td>\n",
       "      <td>140</td>\n",
       "      <td>Ultra-Fast Charging (350 kW+)</td>\n",
       "      <td>10.5</td>\n",
       "      <td>75615.15</td>\n",
       "      <td>Sunset Orange</td>\n",
       "      <td>Argentina</td>\n",
       "      <td>2.0</td>\n",
       "      <td>0.0</td>\n",
       "      <td>5.0</td>\n",
       "      <td>2339</td>\n",
       "      <td>5</td>\n",
       "    </tr>\n",
       "    <tr>\n",
       "      <th>4</th>\n",
       "      <td>5</td>\n",
       "      <td>Acura</td>\n",
       "      <td>ZDX (with GM Ultium)</td>\n",
       "      <td>2023</td>\n",
       "      <td>Lithium-titanate</td>\n",
       "      <td>51.8</td>\n",
       "      <td>336</td>\n",
       "      <td>Plug-in Hydrogen Refueling</td>\n",
       "      <td>3.6</td>\n",
       "      <td>141046.94</td>\n",
       "      <td>Ice Silver</td>\n",
       "      <td>United Arab Emirates</td>\n",
       "      <td>2.0</td>\n",
       "      <td>0.0</td>\n",
       "      <td>3.0</td>\n",
       "      <td>1051</td>\n",
       "      <td>4</td>\n",
       "    </tr>\n",
       "  </tbody>\n",
       "</table>\n",
       "</div>"
      ],
      "text/plain": [
       "   Vehicle_ID Manufacturer                 Model  Year  \\\n",
       "0           1        Acura  ZDX (with GM Ultium)  2015   \n",
       "1           2  Lamborghini       Revuelto (PHEV)  2025   \n",
       "2           3          NIO                   ET7  2020   \n",
       "3           4         Audi                e-tron  2025   \n",
       "4           5        Acura  ZDX (with GM Ultium)  2023   \n",
       "\n",
       "             Battery_Type  Battery_Capacity_kWh  Range_km  \\\n",
       "0        Lithium-titanate                  55.8       214   \n",
       "1        Lithium-titanate                  90.8       212   \n",
       "2             Calcium-ion                  64.7       235   \n",
       "3  Lithium-iron phosphate                 120.5       140   \n",
       "4        Lithium-titanate                  51.8       336   \n",
       "\n",
       "                   Charging_Type  Charge_Time_hr  Price_USD          Color  \\\n",
       "0                        CHAdeMO             9.0  111203.94    Matte White   \n",
       "1          Vehicle-to-Home (V2H)             7.3  127131.65          White   \n",
       "2               Level 2 Charging             8.9   94347.37          Beige   \n",
       "3  Ultra-Fast Charging (350 kW+)            10.5   75615.15  Sunset Orange   \n",
       "4     Plug-in Hydrogen Refueling             3.6  141046.94     Ice Silver   \n",
       "\n",
       "  Country_of_Manufacture  Autonomous_Level  CO2_Emissions_g_per_km  \\\n",
       "0                     UK               0.0                     NaN   \n",
       "1            Netherlands               2.0                     0.0   \n",
       "2                     UK               5.0                     0.0   \n",
       "3              Argentina               2.0                     0.0   \n",
       "4   United Arab Emirates               2.0                     0.0   \n",
       "\n",
       "   Safety_Rating  Units_Sold_2024  Warranty_Years  \n",
       "0            5.0            19726               3  \n",
       "1            4.0             3349               3  \n",
       "2            5.0             6300               5  \n",
       "3            5.0             2339               5  \n",
       "4            3.0             1051               4  "
      ]
     },
     "execution_count": 10,
     "metadata": {},
     "output_type": "execute_result"
    }
   ],
   "source": [
    "df=pd.read_csv(\"electric_vehicles_dataset.csv\")\n",
    "df.head()\n"
   ]
  },
  {
   "cell_type": "code",
   "execution_count": 11,
   "id": "6edb9587",
   "metadata": {},
   "outputs": [],
   "source": [
    "df.to_csv(\"electric_vehicles_dataset.csv\",index=False)\n"
   ]
  },
  {
   "cell_type": "code",
   "execution_count": 49,
   "id": "fa805264",
   "metadata": {},
   "outputs": [
    {
     "name": "stdout",
     "output_type": "stream",
     "text": [
      "Arithmetic Operations\n",
      "0    20\n",
      "1    40\n",
      "2    60\n",
      "3    80\n",
      "dtype: int64\n",
      "Addition\n",
      "0    12\n",
      "1    22\n",
      "2    32\n",
      "3    42\n",
      "dtype: int64\n"
     ]
    }
   ],
   "source": [
    "s=pd.Series([10,20,30,40])\n",
    "print(\"Arithmetic Operations\")\n",
    "print(2*s)\n",
    "print(\"Addition\")\n",
    "print(2+s)\n"
   ]
  },
  {
   "cell_type": "code",
   "execution_count": null,
   "id": "4da524c5",
   "metadata": {},
   "outputs": [
    {
     "data": {
      "text/html": [
       "<div>\n",
       "<style scoped>\n",
       "    .dataframe tbody tr th:only-of-type {\n",
       "        vertical-align: middle;\n",
       "    }\n",
       "\n",
       "    .dataframe tbody tr th {\n",
       "        vertical-align: top;\n",
       "    }\n",
       "\n",
       "    .dataframe thead th {\n",
       "        text-align: right;\n",
       "    }\n",
       "</style>\n",
       "<table border=\"1\" class=\"dataframe\">\n",
       "  <thead>\n",
       "    <tr style=\"text-align: right;\">\n",
       "      <th></th>\n",
       "      <th>Name</th>\n",
       "      <th>RollNo</th>\n",
       "      <th>Age</th>\n",
       "      <th>Marks</th>\n",
       "    </tr>\n",
       "  </thead>\n",
       "  <tbody>\n",
       "    <tr>\n",
       "      <th>1</th>\n",
       "      <td>Gauri</td>\n",
       "      <td>151</td>\n",
       "      <td>18</td>\n",
       "      <td>40</td>\n",
       "    </tr>\n",
       "    <tr>\n",
       "      <th>2</th>\n",
       "      <td>Mitali</td>\n",
       "      <td>154</td>\n",
       "      <td>17</td>\n",
       "      <td>60</td>\n",
       "    </tr>\n",
       "    <tr>\n",
       "      <th>3</th>\n",
       "      <td>Fiza</td>\n",
       "      <td>155</td>\n",
       "      <td>15</td>\n",
       "      <td>75</td>\n",
       "    </tr>\n",
       "  </tbody>\n",
       "</table>\n",
       "</div>"
      ],
      "text/plain": [
       "     Name  RollNo  Age  Marks\n",
       "1   Gauri     151   18     40\n",
       "2  Mitali     154   17     60\n",
       "3    Fiza     155   15     75"
      ]
     },
     "execution_count": 16,
     "metadata": {},
     "output_type": "execute_result"
    }
   ],
   "source": [
    "df1['Name']             # single column\n",
    "df1[['Name','Age']]     # multiple columns\n",
    "df1.iloc[0]             # first row by index\n",
    "df1.iloc[1:4]           # rows by index range\n",
    "df1.loc[df['marks']>16]"
   ]
  },
  {
   "cell_type": "code",
   "execution_count": 17,
   "id": "97bc9b3a",
   "metadata": {},
   "outputs": [
    {
     "data": {
      "text/html": [
       "<div>\n",
       "<style scoped>\n",
       "    .dataframe tbody tr th:only-of-type {\n",
       "        vertical-align: middle;\n",
       "    }\n",
       "\n",
       "    .dataframe tbody tr th {\n",
       "        vertical-align: top;\n",
       "    }\n",
       "\n",
       "    .dataframe thead th {\n",
       "        text-align: right;\n",
       "    }\n",
       "</style>\n",
       "<table border=\"1\" class=\"dataframe\">\n",
       "  <thead>\n",
       "    <tr style=\"text-align: right;\">\n",
       "      <th></th>\n",
       "      <th>Vehicle_ID</th>\n",
       "      <th>Manufacturer</th>\n",
       "      <th>Model</th>\n",
       "      <th>Year</th>\n",
       "      <th>Battery_Type</th>\n",
       "      <th>Battery_Capacity_kWh</th>\n",
       "      <th>Range_km</th>\n",
       "      <th>Charging_Type</th>\n",
       "      <th>Charge_Time_hr</th>\n",
       "      <th>Price_USD</th>\n",
       "      <th>Color</th>\n",
       "      <th>Country_of_Manufacture</th>\n",
       "      <th>Autonomous_Level</th>\n",
       "      <th>CO2_Emissions_g_per_km</th>\n",
       "      <th>Safety_Rating</th>\n",
       "      <th>Units_Sold_2024</th>\n",
       "      <th>Warranty_Years</th>\n",
       "    </tr>\n",
       "  </thead>\n",
       "  <tbody>\n",
       "    <tr>\n",
       "      <th>0</th>\n",
       "      <td>1</td>\n",
       "      <td>Acura</td>\n",
       "      <td>ZDX (with GM Ultium)</td>\n",
       "      <td>2015</td>\n",
       "      <td>Lithium-titanate</td>\n",
       "      <td>55.8</td>\n",
       "      <td>214</td>\n",
       "      <td>CHAdeMO</td>\n",
       "      <td>9.0</td>\n",
       "      <td>111203.94</td>\n",
       "      <td>Matte White</td>\n",
       "      <td>UK</td>\n",
       "      <td>0.0</td>\n",
       "      <td>NaN</td>\n",
       "      <td>5.0</td>\n",
       "      <td>19726</td>\n",
       "      <td>3</td>\n",
       "    </tr>\n",
       "    <tr>\n",
       "      <th>1</th>\n",
       "      <td>2</td>\n",
       "      <td>Lamborghini</td>\n",
       "      <td>Revuelto (PHEV)</td>\n",
       "      <td>2025</td>\n",
       "      <td>Lithium-titanate</td>\n",
       "      <td>90.8</td>\n",
       "      <td>212</td>\n",
       "      <td>Vehicle-to-Home (V2H)</td>\n",
       "      <td>7.3</td>\n",
       "      <td>127131.65</td>\n",
       "      <td>White</td>\n",
       "      <td>Netherlands</td>\n",
       "      <td>2.0</td>\n",
       "      <td>0.0</td>\n",
       "      <td>4.0</td>\n",
       "      <td>3349</td>\n",
       "      <td>3</td>\n",
       "    </tr>\n",
       "    <tr>\n",
       "      <th>2</th>\n",
       "      <td>3</td>\n",
       "      <td>NIO</td>\n",
       "      <td>ET7</td>\n",
       "      <td>2020</td>\n",
       "      <td>Calcium-ion</td>\n",
       "      <td>64.7</td>\n",
       "      <td>235</td>\n",
       "      <td>Level 2 Charging</td>\n",
       "      <td>8.9</td>\n",
       "      <td>94347.37</td>\n",
       "      <td>Beige</td>\n",
       "      <td>UK</td>\n",
       "      <td>5.0</td>\n",
       "      <td>0.0</td>\n",
       "      <td>5.0</td>\n",
       "      <td>6300</td>\n",
       "      <td>5</td>\n",
       "    </tr>\n",
       "    <tr>\n",
       "      <th>3</th>\n",
       "      <td>4</td>\n",
       "      <td>Audi</td>\n",
       "      <td>e-tron</td>\n",
       "      <td>2025</td>\n",
       "      <td>Lithium-iron phosphate</td>\n",
       "      <td>120.5</td>\n",
       "      <td>140</td>\n",
       "      <td>Ultra-Fast Charging (350 kW+)</td>\n",
       "      <td>10.5</td>\n",
       "      <td>75615.15</td>\n",
       "      <td>Sunset Orange</td>\n",
       "      <td>Argentina</td>\n",
       "      <td>2.0</td>\n",
       "      <td>0.0</td>\n",
       "      <td>5.0</td>\n",
       "      <td>2339</td>\n",
       "      <td>5</td>\n",
       "    </tr>\n",
       "    <tr>\n",
       "      <th>4</th>\n",
       "      <td>5</td>\n",
       "      <td>Acura</td>\n",
       "      <td>ZDX (with GM Ultium)</td>\n",
       "      <td>2023</td>\n",
       "      <td>Lithium-titanate</td>\n",
       "      <td>51.8</td>\n",
       "      <td>336</td>\n",
       "      <td>Plug-in Hydrogen Refueling</td>\n",
       "      <td>3.6</td>\n",
       "      <td>141046.94</td>\n",
       "      <td>Ice Silver</td>\n",
       "      <td>United Arab Emirates</td>\n",
       "      <td>2.0</td>\n",
       "      <td>0.0</td>\n",
       "      <td>3.0</td>\n",
       "      <td>1051</td>\n",
       "      <td>4</td>\n",
       "    </tr>\n",
       "  </tbody>\n",
       "</table>\n",
       "</div>"
      ],
      "text/plain": [
       "   Vehicle_ID Manufacturer                 Model  Year  \\\n",
       "0           1        Acura  ZDX (with GM Ultium)  2015   \n",
       "1           2  Lamborghini       Revuelto (PHEV)  2025   \n",
       "2           3          NIO                   ET7  2020   \n",
       "3           4         Audi                e-tron  2025   \n",
       "4           5        Acura  ZDX (with GM Ultium)  2023   \n",
       "\n",
       "             Battery_Type  Battery_Capacity_kWh  Range_km  \\\n",
       "0        Lithium-titanate                  55.8       214   \n",
       "1        Lithium-titanate                  90.8       212   \n",
       "2             Calcium-ion                  64.7       235   \n",
       "3  Lithium-iron phosphate                 120.5       140   \n",
       "4        Lithium-titanate                  51.8       336   \n",
       "\n",
       "                   Charging_Type  Charge_Time_hr  Price_USD          Color  \\\n",
       "0                        CHAdeMO             9.0  111203.94    Matte White   \n",
       "1          Vehicle-to-Home (V2H)             7.3  127131.65          White   \n",
       "2               Level 2 Charging             8.9   94347.37          Beige   \n",
       "3  Ultra-Fast Charging (350 kW+)            10.5   75615.15  Sunset Orange   \n",
       "4     Plug-in Hydrogen Refueling             3.6  141046.94     Ice Silver   \n",
       "\n",
       "  Country_of_Manufacture  Autonomous_Level  CO2_Emissions_g_per_km  \\\n",
       "0                     UK               0.0                     NaN   \n",
       "1            Netherlands               2.0                     0.0   \n",
       "2                     UK               5.0                     0.0   \n",
       "3              Argentina               2.0                     0.0   \n",
       "4   United Arab Emirates               2.0                     0.0   \n",
       "\n",
       "   Safety_Rating  Units_Sold_2024  Warranty_Years  \n",
       "0            5.0            19726               3  \n",
       "1            4.0             3349               3  \n",
       "2            5.0             6300               5  \n",
       "3            5.0             2339               5  \n",
       "4            3.0             1051               4  "
      ]
     },
     "execution_count": 17,
     "metadata": {},
     "output_type": "execute_result"
    }
   ],
   "source": [
    "df.head()#first 5 "
   ]
  },
  {
   "cell_type": "code",
   "execution_count": 18,
   "id": "b82a0297",
   "metadata": {},
   "outputs": [
    {
     "data": {
      "text/html": [
       "<div>\n",
       "<style scoped>\n",
       "    .dataframe tbody tr th:only-of-type {\n",
       "        vertical-align: middle;\n",
       "    }\n",
       "\n",
       "    .dataframe tbody tr th {\n",
       "        vertical-align: top;\n",
       "    }\n",
       "\n",
       "    .dataframe thead th {\n",
       "        text-align: right;\n",
       "    }\n",
       "</style>\n",
       "<table border=\"1\" class=\"dataframe\">\n",
       "  <thead>\n",
       "    <tr style=\"text-align: right;\">\n",
       "      <th></th>\n",
       "      <th>Vehicle_ID</th>\n",
       "      <th>Manufacturer</th>\n",
       "      <th>Model</th>\n",
       "      <th>Year</th>\n",
       "      <th>Battery_Type</th>\n",
       "      <th>Battery_Capacity_kWh</th>\n",
       "      <th>Range_km</th>\n",
       "      <th>Charging_Type</th>\n",
       "      <th>Charge_Time_hr</th>\n",
       "      <th>Price_USD</th>\n",
       "      <th>Color</th>\n",
       "      <th>Country_of_Manufacture</th>\n",
       "      <th>Autonomous_Level</th>\n",
       "      <th>CO2_Emissions_g_per_km</th>\n",
       "      <th>Safety_Rating</th>\n",
       "      <th>Units_Sold_2024</th>\n",
       "      <th>Warranty_Years</th>\n",
       "    </tr>\n",
       "  </thead>\n",
       "  <tbody>\n",
       "    <tr>\n",
       "      <th>3017</th>\n",
       "      <td>3018</td>\n",
       "      <td>Ferrari</td>\n",
       "      <td>SF90 Stradale (PHEV)</td>\n",
       "      <td>2018</td>\n",
       "      <td>Sodium-ion</td>\n",
       "      <td>49.9</td>\n",
       "      <td>182</td>\n",
       "      <td>Mobile Charging</td>\n",
       "      <td>11.7</td>\n",
       "      <td>43988.90</td>\n",
       "      <td>Champagne</td>\n",
       "      <td>Indonesia</td>\n",
       "      <td>2.0</td>\n",
       "      <td>0.0</td>\n",
       "      <td>4.0</td>\n",
       "      <td>13366</td>\n",
       "      <td>5</td>\n",
       "    </tr>\n",
       "    <tr>\n",
       "      <th>3018</th>\n",
       "      <td>3019</td>\n",
       "      <td>Mahindra</td>\n",
       "      <td>Born Electric (upcoming range)</td>\n",
       "      <td>2019</td>\n",
       "      <td>Lithium-ion</td>\n",
       "      <td>136.9</td>\n",
       "      <td>375</td>\n",
       "      <td>Vehicle-to-Home (V2H)</td>\n",
       "      <td>5.8</td>\n",
       "      <td>142072.84</td>\n",
       "      <td>Electric Blue</td>\n",
       "      <td>India</td>\n",
       "      <td>NaN</td>\n",
       "      <td>0.0</td>\n",
       "      <td>3.0</td>\n",
       "      <td>15235</td>\n",
       "      <td>3</td>\n",
       "    </tr>\n",
       "    <tr>\n",
       "      <th>3019</th>\n",
       "      <td>3020</td>\n",
       "      <td>Cadillac</td>\n",
       "      <td>Lyriq</td>\n",
       "      <td>2021</td>\n",
       "      <td>Lithium-iron phosphate</td>\n",
       "      <td>136.5</td>\n",
       "      <td>221</td>\n",
       "      <td>Plug-in Hydrogen Refueling</td>\n",
       "      <td>1.1</td>\n",
       "      <td>88218.53</td>\n",
       "      <td>Metallic Silver</td>\n",
       "      <td>Canada</td>\n",
       "      <td>2.0</td>\n",
       "      <td>0.0</td>\n",
       "      <td>3.0</td>\n",
       "      <td>13808</td>\n",
       "      <td>3</td>\n",
       "    </tr>\n",
       "    <tr>\n",
       "      <th>3020</th>\n",
       "      <td>3021</td>\n",
       "      <td>Mahindra</td>\n",
       "      <td>XUV400</td>\n",
       "      <td>2021</td>\n",
       "      <td>Nickel-metal hydride</td>\n",
       "      <td>96.4</td>\n",
       "      <td>249</td>\n",
       "      <td>Mobile Charging</td>\n",
       "      <td>9.8</td>\n",
       "      <td>110221.30</td>\n",
       "      <td>Matte Green</td>\n",
       "      <td>New Zealand</td>\n",
       "      <td>3.0</td>\n",
       "      <td>NaN</td>\n",
       "      <td>3.0</td>\n",
       "      <td>9854</td>\n",
       "      <td>3</td>\n",
       "    </tr>\n",
       "    <tr>\n",
       "      <th>3021</th>\n",
       "      <td>3022</td>\n",
       "      <td>MG</td>\n",
       "      <td>MG4 Electric</td>\n",
       "      <td>2016</td>\n",
       "      <td>Lithium-sulfur</td>\n",
       "      <td>76.2</td>\n",
       "      <td>404</td>\n",
       "      <td>NACS</td>\n",
       "      <td>2.4</td>\n",
       "      <td>148993.26</td>\n",
       "      <td>Matte Black</td>\n",
       "      <td>Austria</td>\n",
       "      <td>5.0</td>\n",
       "      <td>0.0</td>\n",
       "      <td>4.0</td>\n",
       "      <td>5786</td>\n",
       "      <td>5</td>\n",
       "    </tr>\n",
       "  </tbody>\n",
       "</table>\n",
       "</div>"
      ],
      "text/plain": [
       "      Vehicle_ID Manufacturer                           Model  Year  \\\n",
       "3017        3018      Ferrari            SF90 Stradale (PHEV)  2018   \n",
       "3018        3019     Mahindra  Born Electric (upcoming range)  2019   \n",
       "3019        3020     Cadillac                           Lyriq  2021   \n",
       "3020        3021     Mahindra                          XUV400  2021   \n",
       "3021        3022           MG                    MG4 Electric  2016   \n",
       "\n",
       "                Battery_Type  Battery_Capacity_kWh  Range_km  \\\n",
       "3017              Sodium-ion                  49.9       182   \n",
       "3018             Lithium-ion                 136.9       375   \n",
       "3019  Lithium-iron phosphate                 136.5       221   \n",
       "3020    Nickel-metal hydride                  96.4       249   \n",
       "3021          Lithium-sulfur                  76.2       404   \n",
       "\n",
       "                   Charging_Type  Charge_Time_hr  Price_USD            Color  \\\n",
       "3017             Mobile Charging            11.7   43988.90        Champagne   \n",
       "3018       Vehicle-to-Home (V2H)             5.8  142072.84    Electric Blue   \n",
       "3019  Plug-in Hydrogen Refueling             1.1   88218.53  Metallic Silver   \n",
       "3020             Mobile Charging             9.8  110221.30      Matte Green   \n",
       "3021                        NACS             2.4  148993.26      Matte Black   \n",
       "\n",
       "     Country_of_Manufacture  Autonomous_Level  CO2_Emissions_g_per_km  \\\n",
       "3017              Indonesia               2.0                     0.0   \n",
       "3018                  India               NaN                     0.0   \n",
       "3019                 Canada               2.0                     0.0   \n",
       "3020            New Zealand               3.0                     NaN   \n",
       "3021                Austria               5.0                     0.0   \n",
       "\n",
       "      Safety_Rating  Units_Sold_2024  Warranty_Years  \n",
       "3017            4.0            13366               5  \n",
       "3018            3.0            15235               3  \n",
       "3019            3.0            13808               3  \n",
       "3020            3.0             9854               3  \n",
       "3021            4.0             5786               5  "
      ]
     },
     "execution_count": 18,
     "metadata": {},
     "output_type": "execute_result"
    }
   ],
   "source": [
    "df.tail()#last 5"
   ]
  },
  {
   "cell_type": "code",
   "execution_count": 19,
   "id": "5803b153",
   "metadata": {},
   "outputs": [
    {
     "name": "stdout",
     "output_type": "stream",
     "text": [
      "<class 'pandas.core.frame.DataFrame'>\n",
      "RangeIndex: 3022 entries, 0 to 3021\n",
      "Data columns (total 17 columns):\n",
      " #   Column                  Non-Null Count  Dtype  \n",
      "---  ------                  --------------  -----  \n",
      " 0   Vehicle_ID              3022 non-null   int64  \n",
      " 1   Manufacturer            3022 non-null   object \n",
      " 2   Model                   3022 non-null   object \n",
      " 3   Year                    3022 non-null   int64  \n",
      " 4   Battery_Type            3022 non-null   object \n",
      " 5   Battery_Capacity_kWh    3022 non-null   float64\n",
      " 6   Range_km                3022 non-null   int64  \n",
      " 7   Charging_Type           3022 non-null   object \n",
      " 8   Charge_Time_hr          3022 non-null   float64\n",
      " 9   Price_USD               3022 non-null   float64\n",
      " 10  Color                   3022 non-null   object \n",
      " 11  Country_of_Manufacture  3022 non-null   object \n",
      " 12  Autonomous_Level        2580 non-null   float64\n",
      " 13  CO2_Emissions_g_per_km  2430 non-null   float64\n",
      " 14  Safety_Rating           2685 non-null   float64\n",
      " 15  Units_Sold_2024         3022 non-null   int64  \n",
      " 16  Warranty_Years          3022 non-null   int64  \n",
      "dtypes: float64(6), int64(5), object(6)\n",
      "memory usage: 401.5+ KB\n"
     ]
    }
   ],
   "source": [
    "df.info()#Structural form of data"
   ]
  },
  {
   "cell_type": "code",
   "execution_count": 20,
   "id": "0809a5d3",
   "metadata": {},
   "outputs": [
    {
     "data": {
      "text/html": [
       "<div>\n",
       "<style scoped>\n",
       "    .dataframe tbody tr th:only-of-type {\n",
       "        vertical-align: middle;\n",
       "    }\n",
       "\n",
       "    .dataframe tbody tr th {\n",
       "        vertical-align: top;\n",
       "    }\n",
       "\n",
       "    .dataframe thead th {\n",
       "        text-align: right;\n",
       "    }\n",
       "</style>\n",
       "<table border=\"1\" class=\"dataframe\">\n",
       "  <thead>\n",
       "    <tr style=\"text-align: right;\">\n",
       "      <th></th>\n",
       "      <th>Vehicle_ID</th>\n",
       "      <th>Year</th>\n",
       "      <th>Battery_Capacity_kWh</th>\n",
       "      <th>Range_km</th>\n",
       "      <th>Charge_Time_hr</th>\n",
       "      <th>Price_USD</th>\n",
       "      <th>Autonomous_Level</th>\n",
       "      <th>CO2_Emissions_g_per_km</th>\n",
       "      <th>Safety_Rating</th>\n",
       "      <th>Units_Sold_2024</th>\n",
       "      <th>Warranty_Years</th>\n",
       "    </tr>\n",
       "  </thead>\n",
       "  <tbody>\n",
       "    <tr>\n",
       "      <th>count</th>\n",
       "      <td>3022.000000</td>\n",
       "      <td>3022.000000</td>\n",
       "      <td>3022.000000</td>\n",
       "      <td>3022.000000</td>\n",
       "      <td>3022.000000</td>\n",
       "      <td>3022.000000</td>\n",
       "      <td>2580.000000</td>\n",
       "      <td>2430.0</td>\n",
       "      <td>2685.000000</td>\n",
       "      <td>3022.000000</td>\n",
       "      <td>3022.000000</td>\n",
       "    </tr>\n",
       "    <tr>\n",
       "      <th>mean</th>\n",
       "      <td>1511.500000</td>\n",
       "      <td>2020.019523</td>\n",
       "      <td>84.314692</td>\n",
       "      <td>349.901059</td>\n",
       "      <td>6.212045</td>\n",
       "      <td>90611.906760</td>\n",
       "      <td>2.519380</td>\n",
       "      <td>0.0</td>\n",
       "      <td>3.995158</td>\n",
       "      <td>10207.072799</td>\n",
       "      <td>3.997353</td>\n",
       "    </tr>\n",
       "    <tr>\n",
       "      <th>std</th>\n",
       "      <td>872.520582</td>\n",
       "      <td>3.132083</td>\n",
       "      <td>37.210461</td>\n",
       "      <td>145.406139</td>\n",
       "      <td>3.350597</td>\n",
       "      <td>34654.533838</td>\n",
       "      <td>1.713712</td>\n",
       "      <td>0.0</td>\n",
       "      <td>0.819594</td>\n",
       "      <td>5771.619003</td>\n",
       "      <td>0.821746</td>\n",
       "    </tr>\n",
       "    <tr>\n",
       "      <th>min</th>\n",
       "      <td>1.000000</td>\n",
       "      <td>2015.000000</td>\n",
       "      <td>20.000000</td>\n",
       "      <td>100.000000</td>\n",
       "      <td>0.500000</td>\n",
       "      <td>30014.460000</td>\n",
       "      <td>0.000000</td>\n",
       "      <td>0.0</td>\n",
       "      <td>3.000000</td>\n",
       "      <td>6.000000</td>\n",
       "      <td>3.000000</td>\n",
       "    </tr>\n",
       "    <tr>\n",
       "      <th>25%</th>\n",
       "      <td>756.250000</td>\n",
       "      <td>2017.000000</td>\n",
       "      <td>52.425000</td>\n",
       "      <td>222.000000</td>\n",
       "      <td>3.300000</td>\n",
       "      <td>61257.390000</td>\n",
       "      <td>1.000000</td>\n",
       "      <td>0.0</td>\n",
       "      <td>3.000000</td>\n",
       "      <td>5145.500000</td>\n",
       "      <td>3.000000</td>\n",
       "    </tr>\n",
       "    <tr>\n",
       "      <th>50%</th>\n",
       "      <td>1511.500000</td>\n",
       "      <td>2020.000000</td>\n",
       "      <td>83.600000</td>\n",
       "      <td>347.000000</td>\n",
       "      <td>6.200000</td>\n",
       "      <td>90929.705000</td>\n",
       "      <td>3.000000</td>\n",
       "      <td>0.0</td>\n",
       "      <td>4.000000</td>\n",
       "      <td>10350.000000</td>\n",
       "      <td>4.000000</td>\n",
       "    </tr>\n",
       "    <tr>\n",
       "      <th>75%</th>\n",
       "      <td>2266.750000</td>\n",
       "      <td>2023.000000</td>\n",
       "      <td>115.800000</td>\n",
       "      <td>478.000000</td>\n",
       "      <td>9.100000</td>\n",
       "      <td>120199.842500</td>\n",
       "      <td>4.000000</td>\n",
       "      <td>0.0</td>\n",
       "      <td>5.000000</td>\n",
       "      <td>15128.000000</td>\n",
       "      <td>5.000000</td>\n",
       "    </tr>\n",
       "    <tr>\n",
       "      <th>max</th>\n",
       "      <td>3022.000000</td>\n",
       "      <td>2025.000000</td>\n",
       "      <td>150.000000</td>\n",
       "      <td>600.000000</td>\n",
       "      <td>12.000000</td>\n",
       "      <td>149978.530000</td>\n",
       "      <td>5.000000</td>\n",
       "      <td>0.0</td>\n",
       "      <td>5.000000</td>\n",
       "      <td>19996.000000</td>\n",
       "      <td>5.000000</td>\n",
       "    </tr>\n",
       "  </tbody>\n",
       "</table>\n",
       "</div>"
      ],
      "text/plain": [
       "        Vehicle_ID         Year  Battery_Capacity_kWh     Range_km  \\\n",
       "count  3022.000000  3022.000000           3022.000000  3022.000000   \n",
       "mean   1511.500000  2020.019523             84.314692   349.901059   \n",
       "std     872.520582     3.132083             37.210461   145.406139   \n",
       "min       1.000000  2015.000000             20.000000   100.000000   \n",
       "25%     756.250000  2017.000000             52.425000   222.000000   \n",
       "50%    1511.500000  2020.000000             83.600000   347.000000   \n",
       "75%    2266.750000  2023.000000            115.800000   478.000000   \n",
       "max    3022.000000  2025.000000            150.000000   600.000000   \n",
       "\n",
       "       Charge_Time_hr      Price_USD  Autonomous_Level  \\\n",
       "count     3022.000000    3022.000000       2580.000000   \n",
       "mean         6.212045   90611.906760          2.519380   \n",
       "std          3.350597   34654.533838          1.713712   \n",
       "min          0.500000   30014.460000          0.000000   \n",
       "25%          3.300000   61257.390000          1.000000   \n",
       "50%          6.200000   90929.705000          3.000000   \n",
       "75%          9.100000  120199.842500          4.000000   \n",
       "max         12.000000  149978.530000          5.000000   \n",
       "\n",
       "       CO2_Emissions_g_per_km  Safety_Rating  Units_Sold_2024  Warranty_Years  \n",
       "count                  2430.0    2685.000000      3022.000000     3022.000000  \n",
       "mean                      0.0       3.995158     10207.072799        3.997353  \n",
       "std                       0.0       0.819594      5771.619003        0.821746  \n",
       "min                       0.0       3.000000         6.000000        3.000000  \n",
       "25%                       0.0       3.000000      5145.500000        3.000000  \n",
       "50%                       0.0       4.000000     10350.000000        4.000000  \n",
       "75%                       0.0       5.000000     15128.000000        5.000000  \n",
       "max                       0.0       5.000000     19996.000000        5.000000  "
      ]
     },
     "execution_count": 20,
     "metadata": {},
     "output_type": "execute_result"
    }
   ],
   "source": [
    "df.describe()#stastical form of data"
   ]
  },
  {
   "cell_type": "code",
   "execution_count": 21,
   "id": "6b4772c0",
   "metadata": {},
   "outputs": [
    {
     "data": {
      "text/plain": [
       "Vehicle_ID                  int64\n",
       "Manufacturer               object\n",
       "Model                      object\n",
       "Year                        int64\n",
       "Battery_Type               object\n",
       "Battery_Capacity_kWh      float64\n",
       "Range_km                    int64\n",
       "Charging_Type              object\n",
       "Charge_Time_hr            float64\n",
       "Price_USD                 float64\n",
       "Color                      object\n",
       "Country_of_Manufacture     object\n",
       "Autonomous_Level          float64\n",
       "CO2_Emissions_g_per_km    float64\n",
       "Safety_Rating             float64\n",
       "Units_Sold_2024             int64\n",
       "Warranty_Years              int64\n",
       "dtype: object"
      ]
     },
     "execution_count": 21,
     "metadata": {},
     "output_type": "execute_result"
    }
   ],
   "source": [
    "df.dtypes#Datatypes"
   ]
  },
  {
   "cell_type": "code",
   "execution_count": 22,
   "id": "32fa175b",
   "metadata": {},
   "outputs": [
    {
     "data": {
      "text/plain": [
       "(3022, 17)"
      ]
     },
     "execution_count": 22,
     "metadata": {},
     "output_type": "execute_result"
    }
   ],
   "source": [
    "df.shape #Dimension(rows and columns)"
   ]
  },
  {
   "cell_type": "code",
   "execution_count": 23,
   "id": "9a1b901f",
   "metadata": {},
   "outputs": [
    {
     "data": {
      "text/plain": [
       "Index(['Vehicle_ID', 'Manufacturer', 'Model', 'Year', 'Battery_Type',\n",
       "       'Battery_Capacity_kWh', 'Range_km', 'Charging_Type', 'Charge_Time_hr',\n",
       "       'Price_USD', 'Color', 'Country_of_Manufacture', 'Autonomous_Level',\n",
       "       'CO2_Emissions_g_per_km', 'Safety_Rating', 'Units_Sold_2024',\n",
       "       'Warranty_Years'],\n",
       "      dtype='object')"
      ]
     },
     "execution_count": 23,
     "metadata": {},
     "output_type": "execute_result"
    }
   ],
   "source": [
    "df.columns #columns  names"
   ]
  },
  {
   "cell_type": "code",
   "execution_count": 24,
   "id": "5cecbc71",
   "metadata": {},
   "outputs": [
    {
     "data": {
      "text/plain": [
       "RangeIndex(start=0, stop=3022, step=1)"
      ]
     },
     "execution_count": 24,
     "metadata": {},
     "output_type": "execute_result"
    }
   ],
   "source": [
    "df.index #row index"
   ]
  },
  {
   "cell_type": "code",
   "execution_count": 27,
   "id": "e39207b6",
   "metadata": {},
   "outputs": [
    {
     "data": {
      "text/plain": [
       "np.float64(56.25)"
      ]
     },
     "execution_count": 27,
     "metadata": {},
     "output_type": "execute_result"
    }
   ],
   "source": [
    "df1.describe() #stastical summary\n",
    "df1['Marks'].mean() #Mean\n"
   ]
  },
  {
   "cell_type": "code",
   "execution_count": 28,
   "id": "9a58e11e",
   "metadata": {},
   "outputs": [
    {
     "data": {
      "text/plain": [
       "np.int64(75)"
      ]
     },
     "execution_count": 28,
     "metadata": {},
     "output_type": "execute_result"
    }
   ],
   "source": [
    "df1['Marks'].max() #Max"
   ]
  },
  {
   "cell_type": "code",
   "execution_count": 29,
   "id": "7cd8633a",
   "metadata": {},
   "outputs": [
    {
     "data": {
      "text/plain": [
       "np.float64(55.0)"
      ]
     },
     "execution_count": 29,
     "metadata": {},
     "output_type": "execute_result"
    }
   ],
   "source": [
    "df1['Marks'].median() #Median"
   ]
  },
  {
   "cell_type": "code",
   "execution_count": 30,
   "id": "b322ddeb",
   "metadata": {},
   "outputs": [
    {
     "data": {
      "text/plain": [
       "np.int64(40)"
      ]
     },
     "execution_count": 30,
     "metadata": {},
     "output_type": "execute_result"
    }
   ],
   "source": [
    "df1['Marks'].min() #minimum value"
   ]
  },
  {
   "cell_type": "code",
   "execution_count": 31,
   "id": "97dccd35",
   "metadata": {},
   "outputs": [
    {
     "data": {
      "text/plain": [
       "np.int64(225)"
      ]
     },
     "execution_count": 31,
     "metadata": {},
     "output_type": "execute_result"
    }
   ],
   "source": [
    "df1['Marks'].sum() #Sum of values"
   ]
  },
  {
   "cell_type": "code",
   "execution_count": 32,
   "id": "694ab375",
   "metadata": {},
   "outputs": [
    {
     "data": {
      "text/plain": [
       "Marks\n",
       "50    1\n",
       "40    1\n",
       "60    1\n",
       "75    1\n",
       "Name: count, dtype: int64"
      ]
     },
     "execution_count": 32,
     "metadata": {},
     "output_type": "execute_result"
    }
   ],
   "source": [
    "df1['Marks'].value_counts() #Count Of Values"
   ]
  }
 ],
 "metadata": {
  "kernelspec": {
   "display_name": "Python 3",
   "language": "python",
   "name": "python3"
  },
  "language_info": {
   "codemirror_mode": {
    "name": "ipython",
    "version": 3
   },
   "file_extension": ".py",
   "mimetype": "text/x-python",
   "name": "python",
   "nbconvert_exporter": "python",
   "pygments_lexer": "ipython3",
   "version": "3.11.4"
  }
 },
 "nbformat": 4,
 "nbformat_minor": 5
}
